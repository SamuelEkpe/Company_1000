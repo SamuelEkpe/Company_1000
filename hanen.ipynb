{
 "cells": [
  {
   "cell_type": "code",
   "execution_count": 1,
   "id": "03f70dda",
   "metadata": {},
   "outputs": [],
   "source": [
    "import pandas as pd\n",
    "import numpy as np"
   ]
  },
  {
   "cell_type": "code",
   "execution_count": 46,
   "id": "cda5f770",
   "metadata": {},
   "outputs": [
    {
     "data": {
      "text/html": [
       "<div>\n",
       "<style scoped>\n",
       "    .dataframe tbody tr th:only-of-type {\n",
       "        vertical-align: middle;\n",
       "    }\n",
       "\n",
       "    .dataframe tbody tr th {\n",
       "        vertical-align: top;\n",
       "    }\n",
       "\n",
       "    .dataframe thead th {\n",
       "        text-align: right;\n",
       "    }\n",
       "</style>\n",
       "<table border=\"1\" class=\"dataframe\">\n",
       "  <thead>\n",
       "    <tr style=\"text-align: right;\">\n",
       "      <th></th>\n",
       "      <th>Year</th>\n",
       "      <th>State</th>\n",
       "      <th>Smoke everyday</th>\n",
       "      <th>Smoke some days</th>\n",
       "      <th>Former smoker</th>\n",
       "      <th>Never smoked</th>\n",
       "      <th>Location 1</th>\n",
       "    </tr>\n",
       "  </thead>\n",
       "  <tbody>\n",
       "    <tr>\n",
       "      <th>0</th>\n",
       "      <td>2011</td>\n",
       "      <td>Nationwide (States, DC, and Territories)</td>\n",
       "      <td>15.4</td>\n",
       "      <td>5.7</td>\n",
       "      <td>25.0</td>\n",
       "      <td>52.9</td>\n",
       "      <td>NaN</td>\n",
       "    </tr>\n",
       "    <tr>\n",
       "      <th>1</th>\n",
       "      <td>2011</td>\n",
       "      <td>Wisconsin</td>\n",
       "      <td>14.9</td>\n",
       "      <td>6.0</td>\n",
       "      <td>26.2</td>\n",
       "      <td>52.9</td>\n",
       "      <td>Wisconsin\\n(44.39319000021851, -89.81636999977...</td>\n",
       "    </tr>\n",
       "    <tr>\n",
       "      <th>2</th>\n",
       "      <td>2011</td>\n",
       "      <td>Nevada</td>\n",
       "      <td>18.0</td>\n",
       "      <td>4.9</td>\n",
       "      <td>24.6</td>\n",
       "      <td>52.5</td>\n",
       "      <td>Nevada\\n(39.49323999972637, -117.07183999971608)</td>\n",
       "    </tr>\n",
       "    <tr>\n",
       "      <th>3</th>\n",
       "      <td>2011</td>\n",
       "      <td>South Dakota</td>\n",
       "      <td>15.5</td>\n",
       "      <td>7.6</td>\n",
       "      <td>25.5</td>\n",
       "      <td>51.5</td>\n",
       "      <td>South Dakota\\n(44.353130000049646, -100.373530...</td>\n",
       "    </tr>\n",
       "    <tr>\n",
       "      <th>4</th>\n",
       "      <td>2011</td>\n",
       "      <td>Idaho</td>\n",
       "      <td>12.4</td>\n",
       "      <td>4.8</td>\n",
       "      <td>24.4</td>\n",
       "      <td>58.5</td>\n",
       "      <td>Idaho\\n(43.682590000228515, -114.36368000023168)</td>\n",
       "    </tr>\n",
       "  </tbody>\n",
       "</table>\n",
       "</div>"
      ],
      "text/plain": [
       "   Year                                     State  Smoke everyday  \\\n",
       "0  2011  Nationwide (States, DC, and Territories)            15.4   \n",
       "1  2011                                 Wisconsin            14.9   \n",
       "2  2011                                    Nevada            18.0   \n",
       "3  2011                              South Dakota            15.5   \n",
       "4  2011                                     Idaho            12.4   \n",
       "\n",
       "   Smoke some days  Former smoker  Never smoked  \\\n",
       "0              5.7           25.0          52.9   \n",
       "1              6.0           26.2          52.9   \n",
       "2              4.9           24.6          52.5   \n",
       "3              7.6           25.5          51.5   \n",
       "4              4.8           24.4          58.5   \n",
       "\n",
       "                                          Location 1  \n",
       "0                                                NaN  \n",
       "1  Wisconsin\\n(44.39319000021851, -89.81636999977...  \n",
       "2   Nevada\\n(39.49323999972637, -117.07183999971608)  \n",
       "3  South Dakota\\n(44.353130000049646, -100.373530...  \n",
       "4   Idaho\\n(43.682590000228515, -114.36368000023168)  "
      ]
     },
     "execution_count": 46,
     "metadata": {},
     "output_type": "execute_result"
    }
   ],
   "source": [
    "data= pd.read_csv('Henan/brff_prevalence.csv')\n",
    "data.head()"
   ]
  },
  {
   "cell_type": "code",
   "execution_count": 47,
   "id": "74ea731c",
   "metadata": {},
   "outputs": [
    {
     "name": "stdout",
     "output_type": "stream",
     "text": [
      "<class 'pandas.core.frame.DataFrame'>\n",
      "RangeIndex: 55 entries, 0 to 54\n",
      "Data columns (total 7 columns):\n",
      " #   Column           Non-Null Count  Dtype  \n",
      "---  ------           --------------  -----  \n",
      " 0   Year             55 non-null     int64  \n",
      " 1   State            55 non-null     object \n",
      " 2   Smoke everyday   55 non-null     float64\n",
      " 3   Smoke some days  55 non-null     float64\n",
      " 4   Former smoker    55 non-null     float64\n",
      " 5   Never smoked     55 non-null     float64\n",
      " 6   Location 1       51 non-null     object \n",
      "dtypes: float64(4), int64(1), object(2)\n",
      "memory usage: 3.1+ KB\n"
     ]
    }
   ],
   "source": [
    "data.info()\n"
   ]
  },
  {
   "cell_type": "code",
   "execution_count": 13,
   "id": "23d629ef",
   "metadata": {},
   "outputs": [
    {
     "data": {
      "text/html": [
       "<div>\n",
       "<style scoped>\n",
       "    .dataframe tbody tr th:only-of-type {\n",
       "        vertical-align: middle;\n",
       "    }\n",
       "\n",
       "    .dataframe tbody tr th {\n",
       "        vertical-align: top;\n",
       "    }\n",
       "\n",
       "    .dataframe thead th {\n",
       "        text-align: right;\n",
       "    }\n",
       "</style>\n",
       "<table border=\"1\" class=\"dataframe\">\n",
       "  <thead>\n",
       "    <tr style=\"text-align: right;\">\n",
       "      <th></th>\n",
       "      <th>Year</th>\n",
       "      <th>State</th>\n",
       "      <th>Smoke everyday</th>\n",
       "      <th>Smoke some days</th>\n",
       "      <th>Former smoker</th>\n",
       "      <th>Never smoked</th>\n",
       "    </tr>\n",
       "  </thead>\n",
       "  <tbody>\n",
       "    <tr>\n",
       "      <th>0</th>\n",
       "      <td>2011</td>\n",
       "      <td>Nationwide (States, DC, and Territories)</td>\n",
       "      <td>15.4</td>\n",
       "      <td>5.7</td>\n",
       "      <td>25.0</td>\n",
       "      <td>52.9</td>\n",
       "    </tr>\n",
       "    <tr>\n",
       "      <th>1</th>\n",
       "      <td>2011</td>\n",
       "      <td>Wisconsin</td>\n",
       "      <td>14.9</td>\n",
       "      <td>6.0</td>\n",
       "      <td>26.2</td>\n",
       "      <td>52.9</td>\n",
       "    </tr>\n",
       "    <tr>\n",
       "      <th>2</th>\n",
       "      <td>2011</td>\n",
       "      <td>Nevada</td>\n",
       "      <td>18.0</td>\n",
       "      <td>4.9</td>\n",
       "      <td>24.6</td>\n",
       "      <td>52.5</td>\n",
       "    </tr>\n",
       "    <tr>\n",
       "      <th>3</th>\n",
       "      <td>2011</td>\n",
       "      <td>South Dakota</td>\n",
       "      <td>15.5</td>\n",
       "      <td>7.6</td>\n",
       "      <td>25.5</td>\n",
       "      <td>51.5</td>\n",
       "    </tr>\n",
       "    <tr>\n",
       "      <th>4</th>\n",
       "      <td>2011</td>\n",
       "      <td>Idaho</td>\n",
       "      <td>12.4</td>\n",
       "      <td>4.8</td>\n",
       "      <td>24.4</td>\n",
       "      <td>58.5</td>\n",
       "    </tr>\n",
       "  </tbody>\n",
       "</table>\n",
       "</div>"
      ],
      "text/plain": [
       "   Year                                     State  Smoke everyday  \\\n",
       "0  2011  Nationwide (States, DC, and Territories)            15.4   \n",
       "1  2011                                 Wisconsin            14.9   \n",
       "2  2011                                    Nevada            18.0   \n",
       "3  2011                              South Dakota            15.5   \n",
       "4  2011                                     Idaho            12.4   \n",
       "\n",
       "   Smoke some days  Former smoker  Never smoked  \n",
       "0              5.7           25.0          52.9  \n",
       "1              6.0           26.2          52.9  \n",
       "2              4.9           24.6          52.5  \n",
       "3              7.6           25.5          51.5  \n",
       "4              4.8           24.4          58.5  "
      ]
     },
     "execution_count": 13,
     "metadata": {},
     "output_type": "execute_result"
    }
   ],
   "source": [
    " # to_drop ='Location 1'\n",
    "# data.drop(to_drop, inplace = True, axis =1)\n",
    " #del(data['Location 1'])\n",
    "\n",
    "data.head()"
   ]
  },
  {
   "cell_type": "code",
   "execution_count": 15,
   "id": "d54628a3",
   "metadata": {},
   "outputs": [
    {
     "name": "stdout",
     "output_type": "stream",
     "text": [
      "<class 'pandas.core.frame.DataFrame'>\n",
      "RangeIndex: 55 entries, 0 to 54\n",
      "Data columns (total 6 columns):\n",
      " #   Column           Non-Null Count  Dtype  \n",
      "---  ------           --------------  -----  \n",
      " 0   Year             55 non-null     int64  \n",
      " 1   State            55 non-null     object \n",
      " 2   Smoke everyday   55 non-null     float64\n",
      " 3   Smoke some days  55 non-null     float64\n",
      " 4   Former smoker    55 non-null     float64\n",
      " 5   Never smoked     55 non-null     float64\n",
      "dtypes: float64(4), int64(1), object(1)\n",
      "memory usage: 2.7+ KB\n"
     ]
    }
   ],
   "source": [
    "data.info()"
   ]
  },
  {
   "cell_type": "code",
   "execution_count": 17,
   "id": "2d7ca79c",
   "metadata": {},
   "outputs": [
    {
     "data": {
      "text/plain": [
       "True"
      ]
     },
     "execution_count": 17,
     "metadata": {},
     "output_type": "execute_result"
    }
   ],
   "source": [
    "data['State'].is_unique # to check for variables with unique values"
   ]
  },
  {
   "cell_type": "code",
   "execution_count": null,
   "id": "9d46ad62",
   "metadata": {},
   "outputs": [],
   "source": [
    "data."
   ]
  },
  {
   "cell_type": "code",
   "execution_count": 19,
   "id": "87c84ff5",
   "metadata": {},
   "outputs": [
    {
     "data": {
      "text/html": [
       "<div>\n",
       "<style scoped>\n",
       "    .dataframe tbody tr th:only-of-type {\n",
       "        vertical-align: middle;\n",
       "    }\n",
       "\n",
       "    .dataframe tbody tr th {\n",
       "        vertical-align: top;\n",
       "    }\n",
       "\n",
       "    .dataframe thead th {\n",
       "        text-align: right;\n",
       "    }\n",
       "</style>\n",
       "<table border=\"1\" class=\"dataframe\">\n",
       "  <thead>\n",
       "    <tr style=\"text-align: right;\">\n",
       "      <th></th>\n",
       "      <th>Years</th>\n",
       "      <th>2011</th>\n",
       "      <th>2012</th>\n",
       "      <th>2013</th>\n",
       "      <th>2014</th>\n",
       "      <th>2015</th>\n",
       "      <th>2016</th>\n",
       "      <th>2017</th>\n",
       "      <th>2018</th>\n",
       "      <th>2019</th>\n",
       "      <th>2020</th>\n",
       "    </tr>\n",
       "  </thead>\n",
       "  <tbody>\n",
       "    <tr>\n",
       "      <th>0</th>\n",
       "      <td>Percent of adults with depression (%)</td>\n",
       "      <td>0.175</td>\n",
       "      <td>0.18</td>\n",
       "      <td>0.187</td>\n",
       "      <td>0.19</td>\n",
       "      <td>0.19</td>\n",
       "      <td>0.174</td>\n",
       "      <td>0.205</td>\n",
       "      <td>0.196000</td>\n",
       "      <td>0.199000</td>\n",
       "      <td>0.196000</td>\n",
       "    </tr>\n",
       "    <tr>\n",
       "      <th>1</th>\n",
       "      <td>By Race/Ethnicity</td>\n",
       "      <td>NaN</td>\n",
       "      <td>NaN</td>\n",
       "      <td>NaN</td>\n",
       "      <td>NaN</td>\n",
       "      <td>NaN</td>\n",
       "      <td>NaN</td>\n",
       "      <td>NaN</td>\n",
       "      <td>NaN</td>\n",
       "      <td>NaN</td>\n",
       "      <td>NaN</td>\n",
       "    </tr>\n",
       "    <tr>\n",
       "      <th>2</th>\n",
       "      <td>American Indian or Alaskan Native, non...</td>\n",
       "      <td>NaN</td>\n",
       "      <td>NaN</td>\n",
       "      <td>NaN</td>\n",
       "      <td>NaN</td>\n",
       "      <td>0.267461538461538</td>\n",
       "      <td>0.280121212121212</td>\n",
       "      <td>0.2825625</td>\n",
       "      <td>0.263706</td>\n",
       "      <td>0.263667</td>\n",
       "      <td>0.267958</td>\n",
       "    </tr>\n",
       "    <tr>\n",
       "      <th>3</th>\n",
       "      <td>Asian, non-Hispanic (%)</td>\n",
       "      <td>NaN</td>\n",
       "      <td>NaN</td>\n",
       "      <td>NaN</td>\n",
       "      <td>NaN</td>\n",
       "      <td>0.075111111111111</td>\n",
       "      <td>0.0851</td>\n",
       "      <td>0.107666666666667</td>\n",
       "      <td>0.100733</td>\n",
       "      <td>0.079778</td>\n",
       "      <td>0.097750</td>\n",
       "    </tr>\n",
       "    <tr>\n",
       "      <th>4</th>\n",
       "      <td>Black, non-Hispanic (%)</td>\n",
       "      <td>0.146</td>\n",
       "      <td>0.156153846153846</td>\n",
       "      <td>0.161868421052632</td>\n",
       "      <td>0.1674</td>\n",
       "      <td>0.163512820512821</td>\n",
       "      <td>0.155054054054054</td>\n",
       "      <td>0.17355</td>\n",
       "      <td>0.175600</td>\n",
       "      <td>0.164763</td>\n",
       "      <td>0.169550</td>\n",
       "    </tr>\n",
       "  </tbody>\n",
       "</table>\n",
       "</div>"
      ],
      "text/plain": [
       "                                               Years   2011  \\\n",
       "0              Percent of adults with depression (%)  0.175   \n",
       "1                                  By Race/Ethnicity    NaN   \n",
       "2          American Indian or Alaskan Native, non...    NaN   \n",
       "3                            Asian, non-Hispanic (%)    NaN   \n",
       "4                            Black, non-Hispanic (%)  0.146   \n",
       "\n",
       "                2012               2013    2014               2015  \\\n",
       "0               0.18              0.187    0.19               0.19   \n",
       "1                NaN                NaN     NaN                NaN   \n",
       "2                NaN                NaN     NaN  0.267461538461538   \n",
       "3                NaN                NaN     NaN  0.075111111111111   \n",
       "4  0.156153846153846  0.161868421052632  0.1674  0.163512820512821   \n",
       "\n",
       "                2016               2017      2018      2019      2020  \n",
       "0              0.174              0.205  0.196000  0.199000  0.196000  \n",
       "1                NaN                NaN       NaN       NaN       NaN  \n",
       "2  0.280121212121212          0.2825625  0.263706  0.263667  0.267958  \n",
       "3             0.0851  0.107666666666667  0.100733  0.079778  0.097750  \n",
       "4  0.155054054054054            0.17355  0.175600  0.164763  0.169550  "
      ]
     },
     "execution_count": 19,
     "metadata": {},
     "output_type": "execute_result"
    }
   ],
   "source": [
    "dd= pd.read_csv('Henan/percent.csv')\n",
    "dd.head()"
   ]
  },
  {
   "cell_type": "code",
   "execution_count": 20,
   "id": "22db814d",
   "metadata": {},
   "outputs": [
    {
     "name": "stdout",
     "output_type": "stream",
     "text": [
      "<class 'pandas.core.frame.DataFrame'>\n",
      "RangeIndex: 118 entries, 0 to 117\n",
      "Data columns (total 11 columns):\n",
      " #   Column  Non-Null Count  Dtype  \n",
      "---  ------  --------------  -----  \n",
      " 0   Years   116 non-null    object \n",
      " 1   2011    111 non-null    object \n",
      " 2   2012    111 non-null    object \n",
      " 3   2013    110 non-null    object \n",
      " 4   2014    111 non-null    object \n",
      " 5   2015    112 non-null    object \n",
      " 6   2016    113 non-null    object \n",
      " 7   2017    113 non-null    object \n",
      " 8   2018    112 non-null    float64\n",
      " 9   2019    110 non-null    float64\n",
      " 10  2020    111 non-null    float64\n",
      "dtypes: float64(3), object(8)\n",
      "memory usage: 10.3+ KB\n"
     ]
    }
   ],
   "source": [
    "dd.info()"
   ]
  },
  {
   "cell_type": "code",
   "execution_count": 24,
   "id": "56b4081b",
   "metadata": {},
   "outputs": [],
   "source": [
    " #  dd.drop('Years', inplace = True, axis =1) # drops the Years column in the dd\n"
   ]
  },
  {
   "cell_type": "code",
   "execution_count": 25,
   "id": "94b10f62",
   "metadata": {},
   "outputs": [
    {
     "name": "stdout",
     "output_type": "stream",
     "text": [
      "<class 'pandas.core.frame.DataFrame'>\n",
      "RangeIndex: 118 entries, 0 to 117\n",
      "Data columns (total 10 columns):\n",
      " #   Column  Non-Null Count  Dtype  \n",
      "---  ------  --------------  -----  \n",
      " 0   2011    111 non-null    object \n",
      " 1   2012    111 non-null    object \n",
      " 2   2013    110 non-null    object \n",
      " 3   2014    111 non-null    object \n",
      " 4   2015    112 non-null    object \n",
      " 5   2016    113 non-null    object \n",
      " 6   2017    113 non-null    object \n",
      " 7   2018    112 non-null    float64\n",
      " 8   2019    110 non-null    float64\n",
      " 9   2020    111 non-null    float64\n",
      "dtypes: float64(3), object(7)\n",
      "memory usage: 9.3+ KB\n"
     ]
    }
   ],
   "source": [
    "dd.info()"
   ]
  },
  {
   "cell_type": "code",
   "execution_count": 29,
   "id": "782fde23",
   "metadata": {},
   "outputs": [
    {
     "data": {
      "text/plain": [
       "True"
      ]
     },
     "execution_count": 29,
     "metadata": {},
     "output_type": "execute_result"
    }
   ],
   "source": [
    "data['State'].is_unique"
   ]
  },
  {
   "cell_type": "markdown",
   "id": "4983ae5f",
   "metadata": {},
   "source": [
    "### Let us look out for unique columns"
   ]
  },
  {
   "cell_type": "code",
   "execution_count": 30,
   "id": "93fd6ef3",
   "metadata": {},
   "outputs": [
    {
     "data": {
      "text/plain": [
       "0     Nationwide (States, DC, and Territories)\n",
       "1                                    Wisconsin\n",
       "2                                       Nevada\n",
       "3                                 South Dakota\n",
       "4                                        Idaho\n",
       "5                                     Nebraska\n",
       "6                                Massachusetts\n",
       "7                                   Washington\n",
       "8                                         Iowa\n",
       "9                                    Minnesota\n",
       "10                               New Hampshire\n",
       "11                                    Colorado\n",
       "12                  Nationwide (States and DC)\n",
       "13                                      Kansas\n",
       "14                                       Maine\n",
       "15                                    Michigan\n",
       "16                                  New Jersey\n",
       "17                                    Maryland\n",
       "18                                   Tennessee\n",
       "19                                     Georgia\n",
       "Name: State, dtype: object"
      ]
     },
     "execution_count": 30,
     "metadata": {},
     "output_type": "execute_result"
    }
   ],
   "source": [
    "data['State'].head(20) # to retieve the first 20 rows of the state variable"
   ]
  },
  {
   "cell_type": "markdown",
   "id": "5b924090",
   "metadata": {},
   "source": [
    "### the state column is unique. Let us use it as our index for easy search"
   ]
  },
  {
   "cell_type": "code",
   "execution_count": 36,
   "id": "4121bf85",
   "metadata": {},
   "outputs": [],
   "source": [
    "data =data.set_index('State')"
   ]
  },
  {
   "cell_type": "markdown",
   "id": "2e6321a5",
   "metadata": {},
   "source": [
    "### Let us now access records using the defined index"
   ]
  },
  {
   "cell_type": "code",
   "execution_count": 37,
   "id": "53dfe606",
   "metadata": {},
   "outputs": [
    {
     "data": {
      "text/plain": [
       "Year               2011.0\n",
       "Smoke everyday       15.6\n",
       "Smoke some days       6.2\n",
       "Former smoker        24.8\n",
       "Never smoked         53.4\n",
       "Name: North Carolina, dtype: float64"
      ]
     },
     "execution_count": 37,
     "metadata": {},
     "output_type": "execute_result"
    }
   ],
   "source": [
    "data.loc['North Carolina']"
   ]
  },
  {
   "cell_type": "code",
   "execution_count": 45,
   "id": "a154077e",
   "metadata": {},
   "outputs": [
    {
     "data": {
      "text/plain": [
       "dtype('int64')"
      ]
     },
     "execution_count": 45,
     "metadata": {},
     "output_type": "execute_result"
    }
   ],
   "source": [
    "data['Year'].dtype # to know the data type of the Year variable"
   ]
  }
 ],
 "metadata": {
  "kernelspec": {
   "display_name": "Python 3 (ipykernel)",
   "language": "python",
   "name": "python3"
  },
  "language_info": {
   "codemirror_mode": {
    "name": "ipython",
    "version": 3
   },
   "file_extension": ".py",
   "mimetype": "text/x-python",
   "name": "python",
   "nbconvert_exporter": "python",
   "pygments_lexer": "ipython3",
   "version": "3.9.7"
  }
 },
 "nbformat": 4,
 "nbformat_minor": 5
}
